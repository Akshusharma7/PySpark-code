{
  "nbformat": 4,
  "nbformat_minor": 0,
  "metadata": {
    "colab": {
      "name": "pyspark_demo1.ipynb",
      "provenance": [],
      "collapsed_sections": [],
      "include_colab_link": true
    },
    "kernelspec": {
      "name": "python3",
      "display_name": "Python 3"
    }
  },
  "cells": [
    {
      "cell_type": "markdown",
      "metadata": {
        "id": "view-in-github",
        "colab_type": "text"
      },
      "source": [
        "<a href=\"https://colab.research.google.com/github/Akshusharma7/PySpark-code/blob/master/pyspark_demo3.ipynb\" target=\"_parent\"><img src=\"https://colab.research.google.com/assets/colab-badge.svg\" alt=\"Open In Colab\"/></a>"
      ]
    },
    {
      "cell_type": "code",
      "metadata": {
        "id": "1IKeF8KXLtvd",
        "colab_type": "code",
        "outputId": "55ba2788-36be-4f50-f691-b84581ed4541",
        "colab": {
          "base_uri": "https://localhost:8080/",
          "height": 68
        }
      },
      "source": [
        "!java --version"
      ],
      "execution_count": 2,
      "outputs": [
        {
          "output_type": "stream",
          "text": [
            "openjdk 11.0.4 2019-07-16\n",
            "OpenJDK Runtime Environment (build 11.0.4+11-post-Ubuntu-1ubuntu218.04.3)\n",
            "OpenJDK 64-Bit Server VM (build 11.0.4+11-post-Ubuntu-1ubuntu218.04.3, mixed mode, sharing)\n"
          ],
          "name": "stdout"
        }
      ]
    },
    {
      "cell_type": "markdown",
      "metadata": {
        "id": "y1Wiv6VZNDkE",
        "colab_type": "text"
      },
      "source": [
        "Setting Java 8 for Spark \n"
      ]
    },
    {
      "cell_type": "code",
      "metadata": {
        "id": "mAKoDkWJL-vb",
        "colab_type": "code",
        "outputId": "ef27ff4f-a49a-440f-ab97-226597e90293",
        "colab": {
          "base_uri": "https://localhost:8080/",
          "height": 187
        }
      },
      "source": [
        "!sudo update-alternatives --config java"
      ],
      "execution_count": 3,
      "outputs": [
        {
          "output_type": "stream",
          "text": [
            "There are 2 choices for the alternative java (providing /usr/bin/java).\n",
            "\n",
            "  Selection    Path                                            Priority   Status\n",
            "------------------------------------------------------------\n",
            "* 0            /usr/lib/jvm/java-11-openjdk-amd64/bin/java      1111      auto mode\n",
            "  1            /usr/lib/jvm/java-11-openjdk-amd64/bin/java      1111      manual mode\n",
            "  2            /usr/lib/jvm/java-8-openjdk-amd64/jre/bin/java   1081      manual mode\n",
            "\n",
            "Press <enter> to keep the current choice[*], or type selection number: 2\n",
            "update-alternatives: using /usr/lib/jvm/java-8-openjdk-amd64/jre/bin/java to provide /usr/bin/java (java) in manual mode\n"
          ],
          "name": "stdout"
        }
      ]
    },
    {
      "cell_type": "markdown",
      "metadata": {
        "id": "hX4No9CUOiyR",
        "colab_type": "text"
      },
      "source": [
        "Downloading Spark"
      ]
    },
    {
      "cell_type": "code",
      "metadata": {
        "id": "9Do4L1fEL_Mg",
        "colab_type": "code",
        "colab": {}
      },
      "source": [
        "!wget -q http://apachemirror.wuchna.com/spark/spark-2.4.4/spark-2.4.4-bin-hadoop2.7.tgz\n"
      ],
      "execution_count": 0,
      "outputs": []
    },
    {
      "cell_type": "markdown",
      "metadata": {
        "id": "QiGuwez3Of6E",
        "colab_type": "text"
      },
      "source": [
        "Extracting Spark Files"
      ]
    },
    {
      "cell_type": "code",
      "metadata": {
        "id": "0PgfTwntL_Pv",
        "colab_type": "code",
        "colab": {}
      },
      "source": [
        "!tar xf spark-2.4.4-bin-hadoop2.7.tgz"
      ],
      "execution_count": 0,
      "outputs": []
    },
    {
      "cell_type": "markdown",
      "metadata": {
        "id": "BhzWbS_RPBY4",
        "colab_type": "text"
      },
      "source": [
        "Installing findSpark"
      ]
    },
    {
      "cell_type": "code",
      "metadata": {
        "id": "7VJ1Lo2ML_Sr",
        "colab_type": "code",
        "colab": {}
      },
      "source": [
        "!pip install -q findspark"
      ],
      "execution_count": 0,
      "outputs": []
    },
    {
      "cell_type": "markdown",
      "metadata": {
        "id": "ODatU-pNO_ST",
        "colab_type": "text"
      },
      "source": [
        "Setting up Home environment"
      ]
    },
    {
      "cell_type": "code",
      "metadata": {
        "id": "f6a2R6ZjL_Vl",
        "colab_type": "code",
        "colab": {}
      },
      "source": [
        "import os\n",
        "os.environ[\"JAVA_HOME\"] = \"/usr/lib/jvm/java-8-openjdk-amd64\"\n",
        "os.environ[\"SPARK_HOME\"] = \"/content/spark-2.4.4-bin-hadoop2.7\""
      ],
      "execution_count": 0,
      "outputs": []
    },
    {
      "cell_type": "markdown",
      "metadata": {
        "id": "twWg61KYPPXQ",
        "colab_type": "text"
      },
      "source": [
        "Creating Spark Session"
      ]
    },
    {
      "cell_type": "code",
      "metadata": {
        "id": "-vce9PUuL_Yh",
        "colab_type": "code",
        "colab": {}
      },
      "source": [
        "import findspark\n",
        "findspark.init()\n",
        "from pyspark.sql import SparkSession\n",
        "spark = SparkSession.builder.master(\"local[*]\").getOrCreate()"
      ],
      "execution_count": 0,
      "outputs": []
    },
    {
      "cell_type": "markdown",
      "metadata": {
        "id": "BUDqR3ONQe_1",
        "colab_type": "text"
      },
      "source": [
        "Stopping the session"
      ]
    },
    {
      "cell_type": "code",
      "metadata": {
        "id": "Puy4zjjPQYHi",
        "colab_type": "code",
        "colab": {}
      },
      "source": [
        "spark.stop()"
      ],
      "execution_count": 0,
      "outputs": []
    },
    {
      "cell_type": "markdown",
      "metadata": {
        "id": "X49s11l5QmYV",
        "colab_type": "text"
      },
      "source": [
        "Installing PySpark"
      ]
    },
    {
      "cell_type": "code",
      "metadata": {
        "id": "QLD8MxoVQkyS",
        "colab_type": "code",
        "outputId": "4fb12b31-033a-4c31-c085-8ae19ac21d96",
        "colab": {
          "base_uri": "https://localhost:8080/",
          "height": 343
        }
      },
      "source": [
        "!pip install pyspark"
      ],
      "execution_count": 10,
      "outputs": [
        {
          "output_type": "stream",
          "text": [
            "Collecting pyspark\n",
            "\u001b[?25l  Downloading https://files.pythonhosted.org/packages/87/21/f05c186f4ddb01d15d0ddc36ef4b7e3cedbeb6412274a41f26b55a650ee5/pyspark-2.4.4.tar.gz (215.7MB)\n",
            "\u001b[K     |████████████████████████████████| 215.7MB 55kB/s \n",
            "\u001b[?25hCollecting py4j==0.10.7\n",
            "\u001b[?25l  Downloading https://files.pythonhosted.org/packages/e3/53/c737818eb9a7dc32a7cd4f1396e787bd94200c3997c72c1dbe028587bd76/py4j-0.10.7-py2.py3-none-any.whl (197kB)\n",
            "\u001b[K     |████████████████████████████████| 204kB 54.5MB/s \n",
            "\u001b[?25hBuilding wheels for collected packages: pyspark\n",
            "  Building wheel for pyspark (setup.py) ... \u001b[?25l\u001b[?25hdone\n",
            "  Created wheel for pyspark: filename=pyspark-2.4.4-py2.py3-none-any.whl size=216130387 sha256=e7057939a856f8ade83bd51ed7aed7da386bbad514a7d8da4afd32b4ce5eacb1\n",
            "  Stored in directory: /root/.cache/pip/wheels/ab/09/4d/0d184230058e654eb1b04467dbc1292f00eaa186544604b471\n",
            "Successfully built pyspark\n",
            "Installing collected packages: py4j, pyspark\n",
            "Successfully installed py4j-0.10.7 pyspark-2.4.4\n"
          ],
          "name": "stdout"
        },
        {
          "output_type": "display_data",
          "data": {
            "application/vnd.colab-display-data+json": {
              "pip_warning": {
                "packages": [
                  "py4j",
                  "pyspark"
                ]
              }
            }
          },
          "metadata": {
            "tags": []
          }
        }
      ]
    },
    {
      "cell_type": "markdown",
      "metadata": {
        "id": "n70m_zm1Q1_0",
        "colab_type": "text"
      },
      "source": [
        "First Pyspark Job\n",
        "\n",
        "Importing Pyspark"
      ]
    },
    {
      "cell_type": "code",
      "metadata": {
        "id": "Z3yC9WhIQu_c",
        "colab_type": "code",
        "colab": {}
      },
      "source": [
        "import pyspark"
      ],
      "execution_count": 0,
      "outputs": []
    },
    {
      "cell_type": "markdown",
      "metadata": {
        "id": "rC5LVy6HRtXa",
        "colab_type": "text"
      },
      "source": [
        "Creating a Spark COntext"
      ]
    },
    {
      "cell_type": "code",
      "metadata": {
        "id": "X4qYy6jJRsUt",
        "colab_type": "code",
        "colab": {}
      },
      "source": [
        "from pyspark import SparkConf\n",
        "from pyspark import SparkContext\n",
        "conf = SparkConf()\n",
        "conf.setMaster('local')\n",
        "conf.setAppName('spark-basic')\n",
        "sc = SparkContext(conf=conf) \n"
      ],
      "execution_count": 0,
      "outputs": []
    },
    {
      "cell_type": "markdown",
      "metadata": {
        "id": "AS_pcq8ERxr5",
        "colab_type": "text"
      },
      "source": [
        "Finction to calculate mode"
      ]
    },
    {
      "cell_type": "code",
      "metadata": {
        "id": "WMsUioyQSiak",
        "colab_type": "code",
        "colab": {}
      },
      "source": [
        "def mod(x):\n",
        "  import numpy as np\n",
        "  return (x, np.mod(x,2))"
      ],
      "execution_count": 0,
      "outputs": []
    },
    {
      "cell_type": "markdown",
      "metadata": {
        "id": "GcrVpeMCSjC-",
        "colab_type": "text"
      },
      "source": [
        "**bold text** Creating an RDD"
      ]
    },
    {
      "cell_type": "code",
      "metadata": {
        "id": "NyFlbJS7SzuC",
        "colab_type": "code",
        "outputId": "cbd420f6-36e1-4c9e-ff10-cbc4888ff727",
        "colab": {
          "base_uri": "https://localhost:8080/",
          "height": 34
        }
      },
      "source": [
        "rdd = sc.parallelize(range(1000)).map(mod).take(10)\n",
        "print(rdd)"
      ],
      "execution_count": 14,
      "outputs": [
        {
          "output_type": "stream",
          "text": [
            "[(0, 0), (1, 1), (2, 0), (3, 1), (4, 0), (5, 1), (6, 0), (7, 1), (8, 0), (9, 1)]\n"
          ],
          "name": "stdout"
        }
      ]
    },
    {
      "cell_type": "markdown",
      "metadata": {
        "id": "197feYoUS1D2",
        "colab_type": "text"
      },
      "source": [
        "Stoping Session"
      ]
    },
    {
      "cell_type": "code",
      "metadata": {
        "id": "J9XI8eBVTrWg",
        "colab_type": "code",
        "colab": {}
      },
      "source": [
        "spark.stop()"
      ],
      "execution_count": 0,
      "outputs": []
    },
    {
      "cell_type": "code",
      "metadata": {
        "id": "4QcGmd4GTsVK",
        "colab_type": "code",
        "colab": {}
      },
      "source": [
        ""
      ],
      "execution_count": 0,
      "outputs": []
    },
    {
      "cell_type": "markdown",
      "metadata": {
        "id": "E_FOi-bZP5A6",
        "colab_type": "text"
      },
      "source": [
        "Creating RDDs using Python List \n"
      ]
    },
    {
      "cell_type": "code",
      "metadata": {
        "id": "mJpvAjCgP4It",
        "colab_type": "code",
        "colab": {}
      },
      "source": [
        "values = [1,2,3,4,5]\n",
        "rdd = sc.parallelize(values)"
      ],
      "execution_count": 0,
      "outputs": []
    },
    {
      "cell_type": "markdown",
      "metadata": {
        "id": "HDw1kV8QYMX-",
        "colab_type": "text"
      },
      "source": [
        "Printing all 5 element of RDDs"
      ]
    },
    {
      "cell_type": "code",
      "metadata": {
        "id": "BFjnTrM2YLKa",
        "colab_type": "code",
        "outputId": "4f347076-7d68-4de1-dc4f-d57c8fa0a573",
        "colab": {
          "base_uri": "https://localhost:8080/",
          "height": 34
        }
      },
      "source": [
        "rdd.take(5)"
      ],
      "execution_count": 0,
      "outputs": [
        {
          "output_type": "execute_result",
          "data": {
            "text/plain": [
              "[1, 2, 3, 4, 5]"
            ]
          },
          "metadata": {
            "tags": []
          },
          "execution_count": 15
        }
      ]
    },
    {
      "cell_type": "markdown",
      "metadata": {
        "id": "-G_nSiDXYWH0",
        "colab_type": "text"
      },
      "source": [
        "Uploading Files to Colab"
      ]
    },
    {
      "cell_type": "code",
      "metadata": {
        "id": "upRbIMMlYUDd",
        "colab_type": "code",
        "outputId": "532a9586-978c-4d98-f3df-36ca90c2806e",
        "colab": {
          "resources": {
            "http://localhost:8080/nbextensions/google.colab/files.js": {
              "data": "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",
              "ok": true,
              "headers": [
                [
                  "content-type",
                  "application/javascript"
                ]
              ],
              "status": 200,
              "status_text": ""
            }
          },
          "base_uri": "https://localhost:8080/",
          "height": 74
        }
      },
      "source": [
        "from google.colab import files\n",
        "uploaded = files.upload()"
      ],
      "execution_count": 26,
      "outputs": [
        {
          "output_type": "display_data",
          "data": {
            "text/html": [
              "\n",
              "     <input type=\"file\" id=\"files-1863ec4c-6b69-483f-b999-8c1803b5be57\" name=\"files[]\" multiple disabled />\n",
              "     <output id=\"result-1863ec4c-6b69-483f-b999-8c1803b5be57\">\n",
              "      Upload widget is only available when the cell has been executed in the\n",
              "      current browser session. Please rerun this cell to enable.\n",
              "      </output>\n",
              "      <script src=\"/nbextensions/google.colab/files.js\"></script> "
            ],
            "text/plain": [
              "<IPython.core.display.HTML object>"
            ]
          },
          "metadata": {
            "tags": []
          }
        },
        {
          "output_type": "stream",
          "text": [
            "Saving Pyspark.txt to Pyspark.txt\n"
          ],
          "name": "stdout"
        }
      ]
    },
    {
      "cell_type": "markdown",
      "metadata": {
        "id": "fwrsUOW-aD1y",
        "colab_type": "text"
      },
      "source": [
        "Loading a text file to Spark"
      ]
    },
    {
      "cell_type": "code",
      "metadata": {
        "id": "m30lZJZMY7aI",
        "colab_type": "code",
        "outputId": "9434f114-4d29-42fa-c290-dad3de61ff19",
        "colab": {
          "base_uri": "https://localhost:8080/",
          "height": 105
        }
      },
      "source": [
        "rdd = sc.textFile(\"Pyspark.txt\")\n",
        "rdd.collect()"
      ],
      "execution_count": 28,
      "outputs": [
        {
          "output_type": "execute_result",
          "data": {
            "text/plain": [
              "['Spark with python is pyspark',\n",
              " 'Apache Spark is an open-source distributed general-purpose cluster-computing framework.',\n",
              " 'Spark provides an interface for programming entire clusters with implicit data parallelism and fault tolerance. ',\n",
              " \"Originally developed at the University of California, Berkeley's AMPLab, the Spark codebase was later donated to the Apache Software Foundation, which has maintained it since.\"]"
            ]
          },
          "metadata": {
            "tags": []
          },
          "execution_count": 28
        }
      ]
    },
    {
      "cell_type": "markdown",
      "metadata": {
        "id": "qcZTqx8ihluL",
        "colab_type": "text"
      },
      "source": [
        "RDD Persistence"
      ]
    },
    {
      "cell_type": "code",
      "metadata": {
        "id": "BQzRhMFQaT-i",
        "colab_type": "code",
        "outputId": "b2c62549-e6d4-4a9e-e9fa-4cf3d8b41574",
        "colab": {
          "base_uri": "https://localhost:8080/",
          "height": 34
        }
      },
      "source": [
        "abc = sc.parallelize(range(1,10000,2))\n",
        "abc.persist()"
      ],
      "execution_count": 0,
      "outputs": [
        {
          "output_type": "execute_result",
          "data": {
            "text/plain": [
              "PythonRDD[7] at RDD at PythonRDD.scala:53"
            ]
          },
          "metadata": {
            "tags": []
          },
          "execution_count": 20
        }
      ]
    },
    {
      "cell_type": "markdown",
      "metadata": {
        "id": "HUwb1tByh6TC",
        "colab_type": "text"
      },
      "source": [
        "RDD caching"
      ]
    },
    {
      "cell_type": "code",
      "metadata": {
        "id": "aiSk8zF3h4zT",
        "colab_type": "code",
        "outputId": "febcaa64-2aec-431a-aaf0-6c354e621b8f",
        "colab": {
          "base_uri": "https://localhost:8080/",
          "height": 34
        }
      },
      "source": [
        "textFile = sc.textFile('spark.txt')\n",
        "textFile.cache()"
      ],
      "execution_count": 0,
      "outputs": [
        {
          "output_type": "execute_result",
          "data": {
            "text/plain": [
              "spark.txt MapPartitionsRDD[9] at textFile at NativeMethodAccessorImpl.java:0"
            ]
          },
          "metadata": {
            "tags": []
          },
          "execution_count": 21
        }
      ]
    },
    {
      "cell_type": "markdown",
      "metadata": {
        "id": "XD0iMiLAmprl",
        "colab_type": "text"
      },
      "source": [
        "Transformation Operations:\n",
        "\n",
        "1. Map"
      ]
    },
    {
      "cell_type": "code",
      "metadata": {
        "id": "iAOf7kzgiP-N",
        "colab_type": "code",
        "outputId": "485d23b8-3c68-4f14-d3fc-bcf28e0d8b1c",
        "colab": {
          "base_uri": "https://localhost:8080/",
          "height": 34
        }
      },
      "source": [
        "x = sc.parallelize(['spark', 'rdd', 'example', 'sample', 'example'])\n",
        "y = x.map(lambda x:(x,1))\n",
        "y.collect()"
      ],
      "execution_count": 0,
      "outputs": [
        {
          "output_type": "execute_result",
          "data": {
            "text/plain": [
              "[('spark', 1), ('rdd', 1), ('example', 1), ('sample', 1), ('example', 1)]"
            ]
          },
          "metadata": {
            "tags": []
          },
          "execution_count": 22
        }
      ]
    },
    {
      "cell_type": "markdown",
      "metadata": {
        "id": "Q1Ei7RXenJ70",
        "colab_type": "text"
      },
      "source": [
        "2. FlatMap\n",
        "\n",
        "It is like map, but here each input item can be mapped to \n",
        "0 or more output items(so, a function should return a sequence rather than a single item)"
      ]
    },
    {
      "cell_type": "code",
      "metadata": {
        "id": "rZxWqOsinHwR",
        "colab_type": "code",
        "outputId": "5ea3bf48-4ca6-4db4-fbd4-533662fe5678",
        "colab": {
          "base_uri": "https://localhost:8080/",
          "height": 34
        }
      },
      "source": [
        "rdd = sc.parallelize([2,3,4])\n",
        "sorted(rdd.flatMap(lambda x: range(1,x)).collect())"
      ],
      "execution_count": 0,
      "outputs": [
        {
          "output_type": "execute_result",
          "data": {
            "text/plain": [
              "[1, 1, 1, 2, 2, 3]"
            ]
          },
          "metadata": {
            "tags": []
          },
          "execution_count": 23
        }
      ]
    },
    {
      "cell_type": "markdown",
      "metadata": {
        "id": "yBiX1j6doMb0",
        "colab_type": "text"
      },
      "source": [
        "**3. Filter**\n",
        "\n",
        "Return a collection of element on the basis of the condition provided in function"
      ]
    },
    {
      "cell_type": "code",
      "metadata": {
        "id": "LT4f5quuoH1N",
        "colab_type": "code",
        "outputId": "7a59a17b-346c-4ed5-ec59-683d1486b0e0",
        "colab": {
          "base_uri": "https://localhost:8080/",
          "height": 34
        }
      },
      "source": [
        "rdd = sc.parallelize([1,2,3,4,5,6])\n",
        "rdd.filter(lambda x :x%2==0).collect()"
      ],
      "execution_count": 0,
      "outputs": [
        {
          "output_type": "execute_result",
          "data": {
            "text/plain": [
              "[2, 4, 6]"
            ]
          },
          "metadata": {
            "tags": []
          },
          "execution_count": 24
        }
      ]
    },
    {
      "cell_type": "markdown",
      "metadata": {
        "id": "NKe0z12ZpNaB",
        "colab_type": "text"
      },
      "source": [
        "**4. Sample**\n",
        "\n",
        "- Sample a fraction of the data, with or without    replacment, Using a given random number generator seed\n",
        "\n",
        "- Methods in sample\n",
        "-- withReplacment : Emement can be sampled multiple times\n",
        "-- fraction : Makes the size of the sample as a fraction of the RDD's size without replacment\n",
        "-- seed : A number as a seed for the random number generator\n",
        "\n"
      ]
    },
    {
      "cell_type": "code",
      "metadata": {
        "id": "qY8JbbJnopH3",
        "colab_type": "code",
        "outputId": "312b0371-a523-4621-bae8-94cb3171c14e",
        "colab": {
          "base_uri": "https://localhost:8080/",
          "height": 34
        }
      },
      "source": [
        "parallel = sc.parallelize(range(9))\n",
        "parallel.sample(True, .2).count()"
      ],
      "execution_count": 0,
      "outputs": [
        {
          "output_type": "execute_result",
          "data": {
            "text/plain": [
              "4"
            ]
          },
          "metadata": {
            "tags": []
          },
          "execution_count": 25
        }
      ]
    },
    {
      "cell_type": "code",
      "metadata": {
        "id": "-O-8Wf1qsG8H",
        "colab_type": "code",
        "outputId": "941867bb-3953-46f8-d3b4-c81b2449c3bb",
        "colab": {
          "base_uri": "https://localhost:8080/",
          "height": 34
        }
      },
      "source": [
        "parallel.sample(False, 1).collect()"
      ],
      "execution_count": 0,
      "outputs": [
        {
          "output_type": "execute_result",
          "data": {
            "text/plain": [
              "[0, 1, 2, 3, 4, 5, 6, 7, 8]"
            ]
          },
          "metadata": {
            "tags": []
          },
          "execution_count": 26
        }
      ]
    },
    {
      "cell_type": "markdown",
      "metadata": {
        "id": "e-eyibMJrx9L",
        "colab_type": "text"
      },
      "source": [
        "**5. Union**\n",
        "\n",
        "Returns the union of two RDDs after concatenating their elements"
      ]
    },
    {
      "cell_type": "code",
      "metadata": {
        "id": "gkTzJwAnszC1",
        "colab_type": "code",
        "outputId": "c91246b3-bace-41b7-b455-ea449a9a6a94",
        "colab": {
          "base_uri": "https://localhost:8080/",
          "height": 34
        }
      },
      "source": [
        "parallel = sc.parallelize(range(1,9))\n",
        "par = sc.parallelize(range(5, 15))\n",
        "parallel.union(par).collect()"
      ],
      "execution_count": 0,
      "outputs": [
        {
          "output_type": "execute_result",
          "data": {
            "text/plain": [
              "[1, 2, 3, 4, 5, 6, 7, 8, 5, 6, 7, 8, 9, 10, 11, 12, 13, 14]"
            ]
          },
          "metadata": {
            "tags": []
          },
          "execution_count": 27
        }
      ]
    },
    {
      "cell_type": "markdown",
      "metadata": {
        "id": "1HW2FmfMtThd",
        "colab_type": "text"
      },
      "source": [
        "6. Intersection\n",
        "\n",
        "common of both the RDDs"
      ]
    },
    {
      "cell_type": "code",
      "metadata": {
        "id": "vm54Ws4UtNrz",
        "colab_type": "code",
        "outputId": "b3d60e90-35d8-4e86-ffa6-b36b334c153a",
        "colab": {
          "base_uri": "https://localhost:8080/",
          "height": 34
        }
      },
      "source": [
        "parallel = sc.parallelize(range(1,9))\n",
        "par = sc.parallelize(range(5, 15))\n",
        "parallel.intersection(par).collect()"
      ],
      "execution_count": 0,
      "outputs": [
        {
          "output_type": "execute_result",
          "data": {
            "text/plain": [
              "[6, 8, 5, 7]"
            ]
          },
          "metadata": {
            "tags": []
          },
          "execution_count": 28
        }
      ]
    },
    {
      "cell_type": "markdown",
      "metadata": {
        "id": "QJ58feCfuBHc",
        "colab_type": "text"
      },
      "source": [
        "7. Distinct\n",
        "\n",
        "Return a new RDD with distinct elements within the source data"
      ]
    },
    {
      "cell_type": "code",
      "metadata": {
        "id": "6aU_LAj-t8Ms",
        "colab_type": "code",
        "outputId": "fd2f2844-65d3-4a31-bc6b-dd4e13328b17",
        "colab": {
          "base_uri": "https://localhost:8080/",
          "height": 34
        }
      },
      "source": [
        "parallel = sc.parallelize(range(1,9))\n",
        "par = sc.parallelize(range(5, 15))\n",
        "parallel.union(par).distinct().collect()"
      ],
      "execution_count": 0,
      "outputs": [
        {
          "output_type": "execute_result",
          "data": {
            "text/plain": [
              "[2, 4, 6, 8, 10, 12, 14, 1, 3, 5, 7, 9, 11, 13]"
            ]
          },
          "metadata": {
            "tags": []
          },
          "execution_count": 29
        }
      ]
    },
    {
      "cell_type": "markdown",
      "metadata": {
        "id": "IqQhOTn2vDOX",
        "colab_type": "text"
      },
      "source": [
        "8. SortBy  \n",
        "\n",
        "Return the RDD sorted by gibven Keys"
      ]
    },
    {
      "cell_type": "code",
      "metadata": {
        "id": "d93v5fK_u70z",
        "colab_type": "code",
        "outputId": "ed77d048-064e-467e-9980-c88b7d5b2f5d",
        "colab": {
          "base_uri": "https://localhost:8080/",
          "height": 34
        }
      },
      "source": [
        "y = sc.parallelize([5, 7, 1, 3, 2, 1])\n",
        "y.sortBy(lambda c: c, True).collect()"
      ],
      "execution_count": 0,
      "outputs": [
        {
          "output_type": "execute_result",
          "data": {
            "text/plain": [
              "[1, 1, 2, 3, 5, 7]"
            ]
          },
          "metadata": {
            "tags": []
          },
          "execution_count": 30
        }
      ]
    },
    {
      "cell_type": "code",
      "metadata": {
        "id": "Ci4EJ5R7vhn6",
        "colab_type": "code",
        "outputId": "e575e616-5cce-4a2a-fde7-26a3e898dc22",
        "colab": {
          "base_uri": "https://localhost:8080/",
          "height": 34
        }
      },
      "source": [
        "z = sc.parallelize([(\"H\", 10), (\"A\", 26),(\"Z\",1), (\"L\",5)])\n",
        "z.sortBy(lambda c: c, False).collect()"
      ],
      "execution_count": 0,
      "outputs": [
        {
          "output_type": "execute_result",
          "data": {
            "text/plain": [
              "[('Z', 1), ('L', 5), ('H', 10), ('A', 26)]"
            ]
          },
          "metadata": {
            "tags": []
          },
          "execution_count": 31
        }
      ]
    },
    {
      "cell_type": "markdown",
      "metadata": {
        "id": "pbMEBtSDwChz",
        "colab_type": "text"
      },
      "source": [
        "9. mapPartitions \n",
        "\n",
        "mapPartitions() is called once for each partition unlike map() and foreach(), which are called for each element in the RDD"
      ]
    },
    {
      "cell_type": "code",
      "metadata": {
        "id": "p9TjSz1av_vd",
        "colab_type": "code",
        "outputId": "b7a6c19b-2523-4714-f3cb-efba96913382",
        "colab": {
          "base_uri": "https://localhost:8080/",
          "height": 34
        }
      },
      "source": [
        "rdd = sc.parallelize([1,2,3,4], 2)\n",
        "def f(iterator) : yield sum(iterator)\n",
        "rdd.mapPartitions(f).collect()"
      ],
      "execution_count": 0,
      "outputs": [
        {
          "output_type": "execute_result",
          "data": {
            "text/plain": [
              "[3, 7]"
            ]
          },
          "metadata": {
            "tags": []
          },
          "execution_count": 32
        }
      ]
    },
    {
      "cell_type": "markdown",
      "metadata": {
        "id": "TvZPHcU_xWVJ",
        "colab_type": "text"
      },
      "source": [
        "mapPartitions - withIndex\n",
        "\n",
        "Returns a new RDD by applying a function to each partition of the RDD, While tracking the index of the \n",
        "original Partition"
      ]
    },
    {
      "cell_type": "code",
      "metadata": {
        "id": "9SIB0EogwyU3",
        "colab_type": "code",
        "outputId": "c4cc7d8b-8563-42bc-fbe2-fca23072cd10",
        "colab": {
          "base_uri": "https://localhost:8080/",
          "height": 34
        }
      },
      "source": [
        "rdd = sc.parallelize([1,2,3,4], 4)\n",
        "def f(splitIndex ,iterator) : yield splitIndex\n",
        "rdd.mapPartitionsWithIndex(f).sum()"
      ],
      "execution_count": 0,
      "outputs": [
        {
          "output_type": "execute_result",
          "data": {
            "text/plain": [
              "6"
            ]
          },
          "metadata": {
            "tags": []
          },
          "execution_count": 33
        }
      ]
    },
    {
      "cell_type": "markdown",
      "metadata": {
        "id": "Z9xIJJqlyObz",
        "colab_type": "text"
      },
      "source": [
        "10. groupBy\n",
        "\n",
        "Returns a new RDD by grouping objects in the existing RDD using the given grouping key"
      ]
    },
    {
      "cell_type": "code",
      "metadata": {
        "id": "5keBpqRVwyZ7",
        "colab_type": "code",
        "outputId": "5f0d611d-d361-48f9-b09c-5990ef6ec9ed",
        "colab": {
          "base_uri": "https://localhost:8080/",
          "height": 34
        }
      },
      "source": [
        "rdd = sc.parallelize([1,1,2,3,5,8])\n",
        "result = rdd.groupBy(lambda x: x%2).collect()\n",
        "sorted([(x, sorted(y)) for (x,y) in result ])"
      ],
      "execution_count": 0,
      "outputs": [
        {
          "output_type": "execute_result",
          "data": {
            "text/plain": [
              "[(0, [2, 8]), (1, [1, 1, 3, 5])]"
            ]
          },
          "metadata": {
            "tags": []
          },
          "execution_count": 35
        }
      ]
    },
    {
      "cell_type": "markdown",
      "metadata": {
        "id": "rw0u-lmWz88W",
        "colab_type": "text"
      },
      "source": [
        "11. keyBy\n",
        "\n",
        "Return a new RDD by changing the key RDD element using the given key object"
      ]
    },
    {
      "cell_type": "code",
      "metadata": {
        "id": "l87gj8XIwyRv",
        "colab_type": "code",
        "outputId": "85822128-b165-44e3-f7b0-c6cd777e866d",
        "colab": {
          "base_uri": "https://localhost:8080/",
          "height": 102
        }
      },
      "source": [
        "x = sc.parallelize(range(0,3)).keyBy(lambda x: x*x)\n",
        "y = sc.parallelize(zip(range(0,5), range(0,5)))\n",
        "\n",
        "[(x,list(map(list,y))) for x,y in sorted(x.cogroup(y).collect())]"
      ],
      "execution_count": 0,
      "outputs": [
        {
          "output_type": "execute_result",
          "data": {
            "text/plain": [
              "[(0, [[0], [0]]),\n",
              " (1, [[1], [1]]),\n",
              " (2, [[], [2]]),\n",
              " (3, [[], [3]]),\n",
              " (4, [[2], [4]])]"
            ]
          },
          "metadata": {
            "tags": []
          },
          "execution_count": 37
        }
      ]
    },
    {
      "cell_type": "markdown",
      "metadata": {
        "id": "0Ig0Y-__1exc",
        "colab_type": "text"
      },
      "source": [
        "12. zip-withindex"
      ]
    },
    {
      "cell_type": "code",
      "metadata": {
        "id": "4NIcsYNa0x9J",
        "colab_type": "code",
        "outputId": "e6a1c267-9186-497b-eb4b-2d1fd3f247db",
        "colab": {
          "base_uri": "https://localhost:8080/",
          "height": 34
        }
      },
      "source": [
        "sc.parallelize(['a','b','c','d'],3).zipWithIndex().collect()"
      ],
      "execution_count": 0,
      "outputs": [
        {
          "output_type": "execute_result",
          "data": {
            "text/plain": [
              "[('a', 0), ('b', 1), ('c', 2), ('d', 3)]"
            ]
          },
          "metadata": {
            "tags": []
          },
          "execution_count": 38
        }
      ]
    },
    {
      "cell_type": "markdown",
      "metadata": {
        "id": "zLVYwzAZ11Np",
        "colab_type": "text"
      },
      "source": [
        "12. repartition\n",
        "\n",
        "- Used to either increase or decrease the number of partition in an RDD\n",
        "- Does a full shuffle and creates new partition with the data that are distributed evenly"
      ]
    },
    {
      "cell_type": "code",
      "metadata": {
        "id": "qfcuhRZf1x7L",
        "colab_type": "code",
        "outputId": "43aebc17-12e0-4b88-ee12-c5d9411e6e22",
        "colab": {
          "base_uri": "https://localhost:8080/",
          "height": 34
        }
      },
      "source": [
        "rdd = sc.parallelize([1,2,3,4,5,6,7], 4)\n",
        "sorted(rdd.glom().collect()) "
      ],
      "execution_count": 0,
      "outputs": [
        {
          "output_type": "execute_result",
          "data": {
            "text/plain": [
              "[[1], [2, 3], [4, 5], [6, 7]]"
            ]
          },
          "metadata": {
            "tags": []
          },
          "execution_count": 39
        }
      ]
    },
    {
      "cell_type": "code",
      "metadata": {
        "id": "6N3jqTu32tFt",
        "colab_type": "code",
        "outputId": "d0581ff6-f6aa-491f-a2bb-61c1e2908bbe",
        "colab": {
          "base_uri": "https://localhost:8080/",
          "height": 34
        }
      },
      "source": [
        "len(rdd.repartition(2).glom().collect())"
      ],
      "execution_count": 0,
      "outputs": [
        {
          "output_type": "execute_result",
          "data": {
            "text/plain": [
              "2"
            ]
          },
          "metadata": {
            "tags": []
          },
          "execution_count": 40
        }
      ]
    },
    {
      "cell_type": "markdown",
      "metadata": {
        "id": "ntc76PG03FP8",
        "colab_type": "text"
      },
      "source": [
        "13. coalesce\n",
        "\n",
        "This method is used to reduce the number of partitions in an RDD"
      ]
    },
    {
      "cell_type": "code",
      "metadata": {
        "id": "gkmZB3u822BC",
        "colab_type": "code",
        "outputId": "661b058a-b3cf-43d9-967e-d2d6a6bac244",
        "colab": {
          "base_uri": "https://localhost:8080/",
          "height": 34
        }
      },
      "source": [
        "sc.parallelize([1,2,3,4,5,6],3).glom().collect()"
      ],
      "execution_count": 0,
      "outputs": [
        {
          "output_type": "execute_result",
          "data": {
            "text/plain": [
              "[[1, 2], [3, 4], [5, 6]]"
            ]
          },
          "metadata": {
            "tags": []
          },
          "execution_count": 41
        }
      ]
    },
    {
      "cell_type": "code",
      "metadata": {
        "id": "H8gRnsg43d1Z",
        "colab_type": "code",
        "outputId": "6e9871f6-572b-4aaa-faec-893614d78b29",
        "colab": {
          "base_uri": "https://localhost:8080/",
          "height": 34
        }
      },
      "source": [
        "sc.parallelize([1,2,3,4,5,6],3).coalesce(2).glom().collect()"
      ],
      "execution_count": 0,
      "outputs": [
        {
          "output_type": "execute_result",
          "data": {
            "text/plain": [
              "[[1, 2], [3, 4, 5, 6]]"
            ]
          },
          "metadata": {
            "tags": []
          },
          "execution_count": 42
        }
      ]
    },
    {
      "cell_type": "markdown",
      "metadata": {
        "id": "J1ya2533VzHG",
        "colab_type": "text"
      },
      "source": [
        "**Action in RDDs**\n",
        "\n",
        "**reduce**\n",
        "\n",
        "Aggregate element of a dataset through a function\n"
      ]
    },
    {
      "cell_type": "code",
      "metadata": {
        "id": "BGy2Hqxl3nhh",
        "colab_type": "code",
        "outputId": "6642c43b-d937-43ca-d6b9-b3f2f1874bc5",
        "colab": {
          "base_uri": "https://localhost:8080/",
          "height": 34
        }
      },
      "source": [
        "from operator import add\n",
        "sc.parallelize([1,2,3,4,5]).reduce(add)"
      ],
      "execution_count": 0,
      "outputs": [
        {
          "output_type": "execute_result",
          "data": {
            "text/plain": [
              "15"
            ]
          },
          "metadata": {
            "tags": []
          },
          "execution_count": 43
        }
      ]
    },
    {
      "cell_type": "code",
      "metadata": {
        "id": "S3tnqgTaWSJ5",
        "colab_type": "code",
        "outputId": "3d2a2f91-1a8e-4c9d-b7fd-dc4cec51cb1d",
        "colab": {
          "base_uri": "https://localhost:8080/",
          "height": 34
        }
      },
      "source": [
        "sc.parallelize((2 for _ in range(10))).map(lambda x: 1).cache().reduce(add)"
      ],
      "execution_count": 0,
      "outputs": [
        {
          "output_type": "execute_result",
          "data": {
            "text/plain": [
              "10"
            ]
          },
          "metadata": {
            "tags": []
          },
          "execution_count": 44
        }
      ]
    },
    {
      "cell_type": "markdown",
      "metadata": {
        "id": "FIw0udlFWkA8",
        "colab_type": "text"
      },
      "source": [
        "First"
      ]
    },
    {
      "cell_type": "code",
      "metadata": {
        "id": "VSBfVr7jWhZF",
        "colab_type": "code",
        "outputId": "10d2589d-a41c-4ebd-f16c-aa0eecd9c983",
        "colab": {
          "base_uri": "https://localhost:8080/",
          "height": 34
        }
      },
      "source": [
        "sc.parallelize([2,4,5]).first()"
      ],
      "execution_count": 0,
      "outputs": [
        {
          "output_type": "execute_result",
          "data": {
            "text/plain": [
              "2"
            ]
          },
          "metadata": {
            "tags": []
          },
          "execution_count": 45
        }
      ]
    },
    {
      "cell_type": "markdown",
      "metadata": {
        "id": "qh7DBqtcWyRi",
        "colab_type": "text"
      },
      "source": [
        "**takeOrdered**\n",
        "\n",
        "Return an array with the given number of ordered values in an RDD"
      ]
    },
    {
      "cell_type": "code",
      "metadata": {
        "id": "AqKlfO2lWt8r",
        "colab_type": "code",
        "outputId": "94f19f57-8f94-4b8c-97b9-9bfa3a3d093b",
        "colab": {
          "base_uri": "https://localhost:8080/",
          "height": 34
        }
      },
      "source": [
        "sc.parallelize([2,4,5,6,7,8,9]).takeOrdered(5)"
      ],
      "execution_count": 0,
      "outputs": [
        {
          "output_type": "execute_result",
          "data": {
            "text/plain": [
              "[2, 4, 5, 6, 7]"
            ]
          },
          "metadata": {
            "tags": []
          },
          "execution_count": 46
        }
      ]
    },
    {
      "cell_type": "markdown",
      "metadata": {
        "id": "zag5yazfXMm9",
        "colab_type": "text"
      },
      "source": [
        "take"
      ]
    },
    {
      "cell_type": "code",
      "metadata": {
        "id": "i9MvOyDEXIw6",
        "colab_type": "code",
        "outputId": "d539fb22-b84e-4918-c120-2e23540cdc1c",
        "colab": {
          "base_uri": "https://localhost:8080/",
          "height": 34
        }
      },
      "source": [
        "sc.parallelize([2,4,5,6,7,8,9]).take(5)"
      ],
      "execution_count": 0,
      "outputs": [
        {
          "output_type": "execute_result",
          "data": {
            "text/plain": [
              "[2, 4, 5, 6, 7]"
            ]
          },
          "metadata": {
            "tags": []
          },
          "execution_count": 47
        }
      ]
    },
    {
      "cell_type": "markdown",
      "metadata": {
        "id": "21LOYuI7XRLG",
        "colab_type": "text"
      },
      "source": [
        "count"
      ]
    },
    {
      "cell_type": "code",
      "metadata": {
        "id": "rys-HnxDXXlS",
        "colab_type": "code",
        "outputId": "3f02f69b-76a3-4fda-be18-eef8879bed2e",
        "colab": {
          "base_uri": "https://localhost:8080/",
          "height": 34
        }
      },
      "source": [
        "num = sc.parallelize([2,4,5,6,7,8,9,10])\n",
        "num.count()"
      ],
      "execution_count": 0,
      "outputs": [
        {
          "output_type": "execute_result",
          "data": {
            "text/plain": [
              "8"
            ]
          },
          "metadata": {
            "tags": []
          },
          "execution_count": 49
        }
      ]
    },
    {
      "cell_type": "markdown",
      "metadata": {
        "id": "43rIc5ogXiTi",
        "colab_type": "text"
      },
      "source": [
        "collect\n",
        "\n",
        "\n",
        "- Return the elements of the dataset as an array back to the driver program\n",
        "- Should be used wisely as all workers node return the data to the driver node\n",
        "- If the dataset is huge in size, then this may result in an OutOfMemoryError"
      ]
    },
    {
      "cell_type": "code",
      "metadata": {
        "id": "dhTL33IlXfBx",
        "colab_type": "code",
        "outputId": "0b6433ed-662f-45c4-ac36-b282c039d780",
        "colab": {
          "base_uri": "https://localhost:8080/",
          "height": 34
        }
      },
      "source": [
        "c= sc.parallelize(['rat','cat','mic','dog','rat','cat'], 2)\n",
        "c.collect()"
      ],
      "execution_count": 0,
      "outputs": [
        {
          "output_type": "execute_result",
          "data": {
            "text/plain": [
              "['rat', 'cat', 'mic', 'dog', 'rat', 'cat']"
            ]
          },
          "metadata": {
            "tags": []
          },
          "execution_count": 50
        }
      ]
    },
    {
      "cell_type": "code",
      "metadata": {
        "id": "AMpf299IYb9T",
        "colab_type": "code",
        "outputId": "df75cd64-5afe-48f6-a709-95ddc3887847",
        "colab": {
          "base_uri": "https://localhost:8080/",
          "height": 34
        }
      },
      "source": [
        "c.distinct().collect()"
      ],
      "execution_count": 0,
      "outputs": [
        {
          "output_type": "execute_result",
          "data": {
            "text/plain": [
              "['cat', 'rat', 'mic', 'dog']"
            ]
          },
          "metadata": {
            "tags": []
          },
          "execution_count": 51
        }
      ]
    },
    {
      "cell_type": "code",
      "metadata": {
        "id": "B0BTwWsFYlDk",
        "colab_type": "code",
        "colab": {}
      },
      "source": [
        ""
      ],
      "execution_count": 0,
      "outputs": []
    },
    {
      "cell_type": "markdown",
      "metadata": {
        "id": "dc2PYolSY0Zi",
        "colab_type": "text"
      },
      "source": [
        "SaveAsTextfile\n",
        "- Writes the entire RDD dataset as text file on the path specificed in the local filesystem or HDFS"
      ]
    },
    {
      "cell_type": "code",
      "metadata": {
        "id": "ZrHrdLUfZlPz",
        "colab_type": "code",
        "colab": {}
      },
      "source": [
        "a = sc.parallelize(range(1,1000),3)\n",
        "a.saveAsTextFile(\"C:/Users/AKSHU/Desktop/sam.txt\")\n"
      ],
      "execution_count": 0,
      "outputs": []
    },
    {
      "cell_type": "markdown",
      "metadata": {
        "id": "Lm4xROHGZ-E0",
        "colab_type": "text"
      },
      "source": [
        "**foreach** \n",
        "\n",
        "Passes each element in an RDD through the specified function"
      ]
    },
    {
      "cell_type": "code",
      "metadata": {
        "id": "cFZjlFFZZ9IU",
        "colab_type": "code",
        "colab": {}
      },
      "source": [
        "def f(x): print(x)\n",
        "sc.parallelize([1,2,3,4,5,6,7,8,9]).foreach(f)"
      ],
      "execution_count": 0,
      "outputs": []
    },
    {
      "cell_type": "markdown",
      "metadata": {
        "id": "-iU8K2x7a3W8",
        "colab_type": "text"
      },
      "source": [
        "foreach - Partition"
      ]
    },
    {
      "cell_type": "code",
      "metadata": {
        "id": "dJWwi74TatCN",
        "colab_type": "code",
        "colab": {}
      },
      "source": [
        "def f(iterator):\n",
        "  for x in iterator:\n",
        "    print(x)\n",
        "sc.parallelize([1,2,3,4,5]).foreachPartition(f)"
      ],
      "execution_count": 0,
      "outputs": []
    },
    {
      "cell_type": "markdown",
      "metadata": {
        "id": "QeERVgZobY0c",
        "colab_type": "text"
      },
      "source": [
        "min , max, sum, mean, variance, and stdev"
      ]
    },
    {
      "cell_type": "code",
      "metadata": {
        "id": "9FEITtHobHSr",
        "colab_type": "code",
        "outputId": "95292e26-d7bd-4237-ab93-79639dec0c2e",
        "colab": {
          "base_uri": "https://localhost:8080/",
          "height": 34
        }
      },
      "source": [
        "num = sc.parallelize(range(1,100))\n",
        "num.sum()"
      ],
      "execution_count": 0,
      "outputs": [
        {
          "output_type": "execute_result",
          "data": {
            "text/plain": [
              "4950"
            ]
          },
          "metadata": {
            "tags": []
          },
          "execution_count": 58
        }
      ]
    },
    {
      "cell_type": "code",
      "metadata": {
        "id": "xO3eU3yqboKM",
        "colab_type": "code",
        "outputId": "d35cb574-92f9-4a29-f387-ab3b52e07ab0",
        "colab": {
          "base_uri": "https://localhost:8080/",
          "height": 34
        }
      },
      "source": [
        "num.min()"
      ],
      "execution_count": 0,
      "outputs": [
        {
          "output_type": "execute_result",
          "data": {
            "text/plain": [
              "1"
            ]
          },
          "metadata": {
            "tags": []
          },
          "execution_count": 59
        }
      ]
    },
    {
      "cell_type": "code",
      "metadata": {
        "id": "Gdkz7rbIbqEY",
        "colab_type": "code",
        "outputId": "96a92c8c-6991-477c-9d95-dcb76f61434d",
        "colab": {
          "base_uri": "https://localhost:8080/",
          "height": 34
        }
      },
      "source": [
        "num.variance()"
      ],
      "execution_count": 0,
      "outputs": [
        {
          "output_type": "execute_result",
          "data": {
            "text/plain": [
              "816.6666666666666"
            ]
          },
          "metadata": {
            "tags": []
          },
          "execution_count": 60
        }
      ]
    },
    {
      "cell_type": "code",
      "metadata": {
        "id": "CfHLfTAqbtgO",
        "colab_type": "code",
        "outputId": "633c0a98-e410-40cd-dbb6-e017a777f18c",
        "colab": {
          "base_uri": "https://localhost:8080/",
          "height": 34
        }
      },
      "source": [
        "num.mean()"
      ],
      "execution_count": 0,
      "outputs": [
        {
          "output_type": "execute_result",
          "data": {
            "text/plain": [
              "50.0"
            ]
          },
          "metadata": {
            "tags": []
          },
          "execution_count": 61
        }
      ]
    },
    {
      "cell_type": "code",
      "metadata": {
        "id": "Eg5oY2kTbxKi",
        "colab_type": "code",
        "outputId": "1b5b8b04-3d73-4273-dab7-28f4b2313f75",
        "colab": {
          "base_uri": "https://localhost:8080/",
          "height": 34
        }
      },
      "source": [
        "num.max()"
      ],
      "execution_count": 0,
      "outputs": [
        {
          "output_type": "execute_result",
          "data": {
            "text/plain": [
              "99"
            ]
          },
          "metadata": {
            "tags": []
          },
          "execution_count": 62
        }
      ]
    },
    {
      "cell_type": "code",
      "metadata": {
        "id": "TEy7xj0Vb0rY",
        "colab_type": "code",
        "outputId": "76d3a428-98c9-4667-adad-11c125bcb5a8",
        "colab": {
          "base_uri": "https://localhost:8080/",
          "height": 34
        }
      },
      "source": [
        "num.stdev()"
      ],
      "execution_count": 0,
      "outputs": [
        {
          "output_type": "execute_result",
          "data": {
            "text/plain": [
              "28.577380332470412"
            ]
          },
          "metadata": {
            "tags": []
          },
          "execution_count": 63
        }
      ]
    },
    {
      "cell_type": "markdown",
      "metadata": {
        "id": "8V1LpxNWcXmz",
        "colab_type": "text"
      },
      "source": [
        "**countByValue** "
      ]
    },
    {
      "cell_type": "code",
      "metadata": {
        "id": "dnEuNXC3b3oh",
        "colab_type": "code",
        "outputId": "adb1e73d-39f9-42b8-9691-74c327436f1e",
        "colab": {
          "base_uri": "https://localhost:8080/",
          "height": 34
        }
      },
      "source": [
        "a = sc.parallelize([1,2,3,4,5,6,1,2,3,4,5,6,7,8,1])\n",
        "a.countByValue()"
      ],
      "execution_count": 16,
      "outputs": [
        {
          "output_type": "execute_result",
          "data": {
            "text/plain": [
              "defaultdict(int, {1: 3, 2: 2, 3: 2, 4: 2, 5: 2, 6: 2, 7: 1, 8: 1})"
            ]
          },
          "metadata": {
            "tags": []
          },
          "execution_count": 16
        }
      ]
    },
    {
      "cell_type": "markdown",
      "metadata": {
        "id": "J_0a2sx3csix",
        "colab_type": "text"
      },
      "source": [
        "toDebugString"
      ]
    },
    {
      "cell_type": "code",
      "metadata": {
        "id": "Zmww1Xk2cpOT",
        "colab_type": "code",
        "outputId": "3d19008d-65a6-4eef-85b7-8188f31e4ffc",
        "colab": {
          "base_uri": "https://localhost:8080/",
          "height": 54
        }
      },
      "source": [
        "a = sc.parallelize(range(1,19), 3)\n",
        "b = sc.parallelize(range(1,13),3)\n",
        "c = a.subtract(b)\n",
        "c.toDebugString()"
      ],
      "execution_count": 17,
      "outputs": [
        {
          "output_type": "execute_result",
          "data": {
            "text/plain": [
              "b'(6) PythonRDD[13] at RDD at PythonRDD.scala:53 []\\n |  MapPartitionsRDD[12] at mapPartitions at PythonRDD.scala:133 []\\n |  ShuffledRDD[11] at partitionBy at NativeMethodAccessorImpl.java:0 []\\n +-(6) PairwiseRDD[10] at subtract at <ipython-input-17-a7cb57140584>:3 []\\n    |  PythonRDD[9] at subtract at <ipython-input-17-a7cb57140584>:3 []\\n    |  UnionRDD[8] at union at NativeMethodAccessorImpl.java:0 []\\n    |  PythonRDD[6] at RDD at PythonRDD.scala:53 []\\n    |  ParallelCollectionRDD[4] at parallelize at PythonRDD.scala:195 []\\n    |  PythonRDD[7] at RDD at PythonRDD.scala:53 []\\n    |  ParallelCollectionRDD[5] at parallelize at PythonRDD.scala:195 []'"
            ]
          },
          "metadata": {
            "tags": []
          },
          "execution_count": 17
        }
      ]
    },
    {
      "cell_type": "code",
      "metadata": {
        "id": "4tcBVDZhdETj",
        "colab_type": "code",
        "colab": {}
      },
      "source": [
        "sc.stop()"
      ],
      "execution_count": 0,
      "outputs": []
    },
    {
      "cell_type": "markdown",
      "metadata": {
        "id": "JHCvlCs6_yAB",
        "colab_type": "text"
      },
      "source": [
        "**Key-Value Pair**\n",
        "\n",
        "Creating Pair RDDs"
      ]
    },
    {
      "cell_type": "code",
      "metadata": {
        "id": "GE_AZneIeBaH",
        "colab_type": "code",
        "colab": {
          "base_uri": "https://localhost:8080/",
          "height": 34
        },
        "outputId": "53bd484e-55cd-4f65-8907-1a3ebd4db34e"
      },
      "source": [
        "rdd = sc.parallelize([('a1', 'b1', 'c1','d1','e1'), ('a2','b2','c2','d2','e2')])\n",
        "result= rdd.map(lambda x:(x[0], list(x[1:])))\n",
        "result.collect()"
      ],
      "execution_count": 18,
      "outputs": [
        {
          "output_type": "execute_result",
          "data": {
            "text/plain": [
              "[('a1', ['b1', 'c1', 'd1', 'e1']), ('a2', ['b2', 'c2', 'd2', 'e2'])]"
            ]
          },
          "metadata": {
            "tags": []
          },
          "execution_count": 18
        }
      ]
    },
    {
      "cell_type": "markdown",
      "metadata": {
        "id": "tMrmWoYVDNH9",
        "colab_type": "text"
      },
      "source": [
        "**Wordcount using RDD concept**"
      ]
    },
    {
      "cell_type": "code",
      "metadata": {
        "id": "cvDYnH7jeGTx",
        "colab_type": "code",
        "colab": {}
      },
      "source": [
        "rdd = sc.textFile('Pyspark.txt')\n"
      ],
      "execution_count": 0,
      "outputs": []
    },
    {
      "cell_type": "code",
      "metadata": {
        "id": "0Vcsreg_DcrH",
        "colab_type": "code",
        "colab": {}
      },
      "source": [
        "nonempty_lines = rdd.filter(lambda x: len(x)>0)\n",
        "words = nonempty_lines.flatMap(lambda x: x.split(' '))\n",
        "wordcount = words.map(lambda x: (x,1)).reduceByKey(lambda x,y: x+y).map(lambda x: (x[1],x[0] )).sortByKey(False)\n"
      ],
      "execution_count": 0,
      "outputs": []
    },
    {
      "cell_type": "code",
      "metadata": {
        "id": "mDN7R5VdFEO0",
        "colab_type": "code",
        "colab": {
          "base_uri": "https://localhost:8080/",
          "height": 799
        },
        "outputId": "3ceab4b9-c5bc-4df4-a920-7882adddf01d"
      },
      "source": [
        "for word in wordcount.collect():\n",
        "  print(word)"
      ],
      "execution_count": 31,
      "outputs": [
        {
          "output_type": "stream",
          "text": [
            "(4, 'Spark')\n",
            "(3, 'the')\n",
            "(2, 'with')\n",
            "(2, 'is')\n",
            "(2, 'Apache')\n",
            "(2, 'an')\n",
            "(1, 'python')\n",
            "(1, 'pyspark')\n",
            "(1, 'open-source')\n",
            "(1, 'distributed')\n",
            "(1, 'general-purpose')\n",
            "(1, 'cluster-computing')\n",
            "(1, 'framework.')\n",
            "(1, 'provides')\n",
            "(1, 'interface')\n",
            "(1, 'for')\n",
            "(1, 'programming')\n",
            "(1, 'entire')\n",
            "(1, 'clusters')\n",
            "(1, 'implicit')\n",
            "(1, 'data')\n",
            "(1, 'parallelism')\n",
            "(1, 'and')\n",
            "(1, 'fault')\n",
            "(1, 'tolerance.')\n",
            "(1, '')\n",
            "(1, 'Originally')\n",
            "(1, 'developed')\n",
            "(1, 'at')\n",
            "(1, 'University')\n",
            "(1, 'of')\n",
            "(1, 'California,')\n",
            "(1, \"Berkeley's\")\n",
            "(1, 'AMPLab,')\n",
            "(1, 'codebase')\n",
            "(1, 'was')\n",
            "(1, 'later')\n",
            "(1, 'donated')\n",
            "(1, 'to')\n",
            "(1, 'Software')\n",
            "(1, 'Foundation,')\n",
            "(1, 'which')\n",
            "(1, 'has')\n",
            "(1, 'maintained')\n",
            "(1, 'it')\n",
            "(1, 'since.')\n"
          ],
          "name": "stdout"
        }
      ]
    },
    {
      "cell_type": "code",
      "metadata": {
        "id": "etqbyUHNFTkU",
        "colab_type": "code",
        "colab": {}
      },
      "source": [
        "wordcount.savaAsTextFile(\"\")"
      ],
      "execution_count": 0,
      "outputs": []
    },
    {
      "cell_type": "code",
      "metadata": {
        "id": "XmSrUtPlJueT",
        "colab_type": "code",
        "colab": {}
      },
      "source": [
        "sc.stop()"
      ],
      "execution_count": 0,
      "outputs": []
    },
    {
      "cell_type": "code",
      "metadata": {
        "id": "XFKu1UAXJwVz",
        "colab_type": "code",
        "colab": {}
      },
      "source": [
        ""
      ],
      "execution_count": 0,
      "outputs": []
    }
  ]
}