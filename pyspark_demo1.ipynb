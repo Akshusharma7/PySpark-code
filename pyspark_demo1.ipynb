{
  "nbformat": 4,
  "nbformat_minor": 0,
  "metadata": {
    "colab": {
      "name": "pyspark_demo1.ipynb",
      "provenance": [],
      "include_colab_link": true
    },
    "kernelspec": {
      "name": "python3",
      "display_name": "Python 3"
    }
  },
  "cells": [
    {
      "cell_type": "markdown",
      "metadata": {
        "id": "view-in-github",
        "colab_type": "text"
      },
      "source": [
        "<a href=\"https://colab.research.google.com/github/Akshusharma7/PySpark-code/blob/master/pyspark_demo1.ipynb\" target=\"_parent\"><img src=\"https://colab.research.google.com/assets/colab-badge.svg\" alt=\"Open In Colab\"/></a>"
      ]
    },
    {
      "cell_type": "code",
      "metadata": {
        "id": "1IKeF8KXLtvd",
        "colab_type": "code",
        "colab": {
          "base_uri": "https://localhost:8080/",
          "height": 68
        },
        "outputId": "ac3ff46c-9599-42a5-8924-e319bac5a226"
      },
      "source": [
        "!java --version"
      ],
      "execution_count": 1,
      "outputs": [
        {
          "output_type": "stream",
          "text": [
            "Unrecognized option: --version\n",
            "Error: Could not create the Java Virtual Machine.\n",
            "Error: A fatal exception has occurred. Program will exit.\n"
          ],
          "name": "stdout"
        }
      ]
    },
    {
      "cell_type": "markdown",
      "metadata": {
        "id": "y1Wiv6VZNDkE",
        "colab_type": "text"
      },
      "source": [
        "Setting Java 8 for Spark \n"
      ]
    },
    {
      "cell_type": "code",
      "metadata": {
        "id": "mAKoDkWJL-vb",
        "colab_type": "code",
        "colab": {
          "base_uri": "https://localhost:8080/",
          "height": 170
        },
        "outputId": "1b958222-a2fe-41e6-adf8-befad3e478ac"
      },
      "source": [
        "!sudo update-alternatives --config java"
      ],
      "execution_count": 2,
      "outputs": [
        {
          "output_type": "stream",
          "text": [
            "There are 2 choices for the alternative java (providing /usr/bin/java).\n",
            "\n",
            "  Selection    Path                                            Priority   Status\n",
            "------------------------------------------------------------\n",
            "  0            /usr/lib/jvm/java-11-openjdk-amd64/bin/java      1111      auto mode\n",
            "  1            /usr/lib/jvm/java-11-openjdk-amd64/bin/java      1111      manual mode\n",
            "* 2            /usr/lib/jvm/java-8-openjdk-amd64/jre/bin/java   1081      manual mode\n",
            "\n",
            "Press <enter> to keep the current choice[*], or type selection number: 2\n"
          ],
          "name": "stdout"
        }
      ]
    },
    {
      "cell_type": "markdown",
      "metadata": {
        "id": "hX4No9CUOiyR",
        "colab_type": "text"
      },
      "source": [
        "Downloading Spark"
      ]
    },
    {
      "cell_type": "code",
      "metadata": {
        "id": "9Do4L1fEL_Mg",
        "colab_type": "code",
        "colab": {}
      },
      "source": [
        "!wget -q http://apachemirror.wuchna.com/spark/spark-2.4.4/spark-2.4.4-bin-hadoop2.7.tgz"
      ],
      "execution_count": 0,
      "outputs": []
    },
    {
      "cell_type": "markdown",
      "metadata": {
        "id": "QiGuwez3Of6E",
        "colab_type": "text"
      },
      "source": [
        "Extracting Spark Files"
      ]
    },
    {
      "cell_type": "code",
      "metadata": {
        "id": "0PgfTwntL_Pv",
        "colab_type": "code",
        "colab": {}
      },
      "source": [
        "!tar xf spark-2.4.4-bin-hadoop2.7.tgz"
      ],
      "execution_count": 0,
      "outputs": []
    },
    {
      "cell_type": "markdown",
      "metadata": {
        "id": "BhzWbS_RPBY4",
        "colab_type": "text"
      },
      "source": [
        "Installing findSpark"
      ]
    },
    {
      "cell_type": "code",
      "metadata": {
        "id": "7VJ1Lo2ML_Sr",
        "colab_type": "code",
        "colab": {}
      },
      "source": [
        "!pip install -q findspark"
      ],
      "execution_count": 0,
      "outputs": []
    },
    {
      "cell_type": "markdown",
      "metadata": {
        "id": "ODatU-pNO_ST",
        "colab_type": "text"
      },
      "source": [
        "Setting up Home environment"
      ]
    },
    {
      "cell_type": "code",
      "metadata": {
        "id": "f6a2R6ZjL_Vl",
        "colab_type": "code",
        "colab": {}
      },
      "source": [
        "import os\n",
        "os.environ[\"JAVA_HOME\"] = \"/usr/lib/jvm/java-8-openjdk-amd64\"\n",
        "os.environ[\"SPARK_HOME\"] = \"/content/spark-2.4.4-bin-hadoop2.7\""
      ],
      "execution_count": 0,
      "outputs": []
    },
    {
      "cell_type": "markdown",
      "metadata": {
        "id": "twWg61KYPPXQ",
        "colab_type": "text"
      },
      "source": [
        "Creating Spark Session"
      ]
    },
    {
      "cell_type": "code",
      "metadata": {
        "id": "-vce9PUuL_Yh",
        "colab_type": "code",
        "colab": {}
      },
      "source": [
        "import findspark\n",
        "findspark.init()\n",
        "from pyspark.sql import SparkSession\n",
        "spark = SparkSession.builder.master(\"local[*]\").getOrCreate()"
      ],
      "execution_count": 0,
      "outputs": []
    },
    {
      "cell_type": "markdown",
      "metadata": {
        "id": "BUDqR3ONQe_1",
        "colab_type": "text"
      },
      "source": [
        "Stopping the session"
      ]
    },
    {
      "cell_type": "code",
      "metadata": {
        "id": "Puy4zjjPQYHi",
        "colab_type": "code",
        "colab": {}
      },
      "source": [
        "spark.stop()"
      ],
      "execution_count": 0,
      "outputs": []
    },
    {
      "cell_type": "markdown",
      "metadata": {
        "id": "X49s11l5QmYV",
        "colab_type": "text"
      },
      "source": [
        "Installing PySpark"
      ]
    },
    {
      "cell_type": "code",
      "metadata": {
        "id": "QLD8MxoVQkyS",
        "colab_type": "code",
        "colab": {
          "base_uri": "https://localhost:8080/",
          "height": 51
        },
        "outputId": "978ccbc4-065b-443d-8796-0a3412792115"
      },
      "source": [
        "!pip install pyspark"
      ],
      "execution_count": 10,
      "outputs": [
        {
          "output_type": "stream",
          "text": [
            "Requirement already satisfied: pyspark in /usr/local/lib/python3.6/dist-packages (2.4.4)\n",
            "Requirement already satisfied: py4j==0.10.7 in /usr/local/lib/python3.6/dist-packages (from pyspark) (0.10.7)\n"
          ],
          "name": "stdout"
        }
      ]
    },
    {
      "cell_type": "markdown",
      "metadata": {
        "id": "n70m_zm1Q1_0",
        "colab_type": "text"
      },
      "source": [
        "First Pyspark Job\n",
        "\n",
        "Importing Pyspark"
      ]
    },
    {
      "cell_type": "code",
      "metadata": {
        "id": "Z3yC9WhIQu_c",
        "colab_type": "code",
        "colab": {}
      },
      "source": [
        "import pyspark"
      ],
      "execution_count": 0,
      "outputs": []
    },
    {
      "cell_type": "markdown",
      "metadata": {
        "id": "rC5LVy6HRtXa",
        "colab_type": "text"
      },
      "source": [
        "Creating a Spark COntext"
      ]
    },
    {
      "cell_type": "code",
      "metadata": {
        "id": "X4qYy6jJRsUt",
        "colab_type": "code",
        "colab": {}
      },
      "source": [
        "from pyspark import SparkConf\n",
        "from pyspark import SparkContext\n",
        "conf = SparkConf()\n",
        "conf.setMaster('local')\n",
        "conf.setAppName('spark-basic')\n",
        "sc = SparkContext(conf=conf) \n"
      ],
      "execution_count": 0,
      "outputs": []
    },
    {
      "cell_type": "markdown",
      "metadata": {
        "id": "AS_pcq8ERxr5",
        "colab_type": "text"
      },
      "source": [
        "Finction to calculate mode"
      ]
    },
    {
      "cell_type": "code",
      "metadata": {
        "id": "WMsUioyQSiak",
        "colab_type": "code",
        "colab": {}
      },
      "source": [
        "def mod(x):\n",
        "  import numpy as np\n",
        "  return (x, np.mod(x,2))"
      ],
      "execution_count": 0,
      "outputs": []
    },
    {
      "cell_type": "markdown",
      "metadata": {
        "id": "GcrVpeMCSjC-",
        "colab_type": "text"
      },
      "source": [
        "**bold text** Creating an RDD"
      ]
    },
    {
      "cell_type": "code",
      "metadata": {
        "id": "NyFlbJS7SzuC",
        "colab_type": "code",
        "colab": {
          "base_uri": "https://localhost:8080/",
          "height": 34
        },
        "outputId": "8e1be70c-8870-435e-a67d-be5515effb47"
      },
      "source": [
        "rdd = sc.parallelize(range(1000)).map(mod).take(10)\n",
        "print(rdd)"
      ],
      "execution_count": 16,
      "outputs": [
        {
          "output_type": "stream",
          "text": [
            "[(0, 0), (1, 1), (2, 0), (3, 1), (4, 0), (5, 1), (6, 0), (7, 1), (8, 0), (9, 1)]\n"
          ],
          "name": "stdout"
        }
      ]
    },
    {
      "cell_type": "markdown",
      "metadata": {
        "id": "197feYoUS1D2",
        "colab_type": "text"
      },
      "source": [
        "Stoping Session"
      ]
    },
    {
      "cell_type": "code",
      "metadata": {
        "id": "J9XI8eBVTrWg",
        "colab_type": "code",
        "colab": {}
      },
      "source": [
        "spark.stop()"
      ],
      "execution_count": 0,
      "outputs": []
    },
    {
      "cell_type": "code",
      "metadata": {
        "id": "4QcGmd4GTsVK",
        "colab_type": "code",
        "colab": {}
      },
      "source": [
        ""
      ],
      "execution_count": 0,
      "outputs": []
    }
  ]
}